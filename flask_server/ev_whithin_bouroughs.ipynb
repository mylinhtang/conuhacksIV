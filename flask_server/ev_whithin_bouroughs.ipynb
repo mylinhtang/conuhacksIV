{
 "cells": [
  {
   "cell_type": "code",
   "execution_count": null,
   "metadata": {
    "vscode": {
     "languageId": "plaintext"
    }
   },
   "outputs": [],
   "source": [
    "import geopandas as gpd\n",
    "import pandas as pd\n",
    "from shapely.geometry import Point\n",
    "\n",
    "# Load the Montreal borough shapefile\n",
    "borough_shapefile = 'limites-administratives-agglomeration-nad83.shp'  \n",
    "boroughs = gpd.read_file(borough_shapefile)\n",
    "\n",
    "# Load EV charging station data\n",
    "ev_stations_file = 'filtered_ev_chagers.csv'  \n",
    "ev_stations = pd.read_csv(ev_stations_file)\n",
    "\n",
    "# Convert EV charging stations to GeoDataFrame with Point geometry\n",
    "ev_stations['geometry'] = ev_stations.apply(lambda row: Point(row['Longitude'], row['Latitude']), axis=1)\n",
    "ev_gdf = gpd.GeoDataFrame(ev_stations, geometry='geometry')\n",
    "\n",
    "# Set the coordinate reference system (CRS) for both datasets (same CRS for spatial join)\n",
    "ev_gdf = ev_gdf.set_crs('EPSG:4326')\n",
    "\n",
    "# Transform the boroughs CRS to EPSG:4326\n",
    "boroughs = boroughs.to_crs('EPSG:4326')\n",
    "\n",
    "# Step 5: Perform a spatial join to assign EV stations to boroughs\n",
    "ev_with_boroughs = gpd.sjoin(ev_gdf, boroughs, how=\"left\", predicate='within')\n",
    "\n",
    "# Load air quality data \n",
    "air_quality_file = 'filtered_rsqa-indice-qualite-air-station.csv'  \n",
    "air_quality = pd.read_csv(air_quality_file)\n",
    "\n",
    "# Convert air quality data to GeoDataFrame with Point geometry\n",
    "air_quality['geometry'] = air_quality.apply(lambda row: Point(row['longitude'], row['latitude']), axis=1)\n",
    "air_quality_gdf = gpd.GeoDataFrame(air_quality, geometry='geometry')\n",
    "\n",
    "# Ensure CRS alignment for air quality data\n",
    "air_quality_gdf = air_quality_gdf.set_crs('EPSG:4326', allow_override=True)\n",
    "\n",
    "# Step 8: Perform the spatial join to assign air quality measurements to boroughs\n",
    "air_quality_with_boroughs = gpd.sjoin(air_quality_gdf, boroughs, how=\"left\", predicate='within')\n",
    "\n",
    "# Check results\n",
    "# Update the column name for the boroughs after spatial join\n",
    "# Assuming 'NOM' is the borough column in the spatial join result\n",
    "print(ev_with_boroughs[['NOM_BORNE_RECHARGE', 'NOM_PARC', 'ADRESSE', 'VILLE', 'PROVINCE', 'NIVEAU_RECHARGE', 'NOM']])\n",
    "print(air_quality_with_boroughs[['stationId', 'adresse', 'polluant', 'valeur', 'date', 'heure', 'NOM']])\n",
    "\n",
    "# Optionally, save the results to CSV\n",
    "ev_with_boroughs.to_csv('ev_stations_with_boroughs.csv', index=False)\n",
    "air_quality_with_boroughs.to_csv('air_quality_with_boroughs.csv', index=False)\n"
   ]
  }
 ],
 "metadata": {
  "language_info": {
   "name": "python"
  }
 },
 "nbformat": 4,
 "nbformat_minor": 2
}
